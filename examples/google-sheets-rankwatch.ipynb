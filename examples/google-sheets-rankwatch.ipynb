{
 "cells": [
  {
   "cell_type": "markdown",
   "metadata": {},
   "source": [
    "### Install the necessary packages:\n",
    "\n",
    "pip install --upgrade gspread zenserp oauth2client\n",
    "\n",
    "### Create an authentication for Google Drive: \n",
    "https://gspread.readthedocs.io/en/latest/oauth2.html\n",
    "\n",
    "### Activate Google Drive API and Google Sheets API for your project\n",
    "https://console.developers.google.com/project\n",
    "\n",
    "### Required Files:\n",
    "- token.json (Google Drive Authentication)\n",
    "- apikey (Zenserp API Authentication ([https://app.zenserp.com/])\n",
    "\n",
    "With this project we will create a spreadsheet and update the results of our rankwatch activities in a weekly spreadsheet."
   ]
  },
  {
   "cell_type": "code",
   "execution_count": 67,
   "metadata": {},
   "outputs": [],
   "source": [
    "# Initialize the required authentications\n",
    "\n",
    "import zenserp\n",
    "import gspread\n",
    "from oauth2client.service_account import ServiceAccountCredentials\n",
    "\n",
    "scope = ['https://spreadsheets.google.com/feeds',\n",
    "         'https://www.googleapis.com/auth/drive']\n",
    "\n",
    "credentials = ServiceAccountCredentials.from_json_keyfile_name('token.json', scope)\n",
    "gc = gspread.authorize(credentials)"
   ]
  },
  {
   "cell_type": "code",
   "execution_count": 68,
   "metadata": {},
   "outputs": [],
   "source": [
    "SPREADSHEET_NAME = \"Zenserp Rank Watch\" # The name of the spreadsheet\n",
    "KEYWORDS = {\n",
    "    \"Pied Piper\": [\"https://silicon-valley.fandom.com\"],\n",
    "    \"HBO Silicon Valley\": [\"https://www.imdb.com\", \"https://www.indiewire.com\"],\n",
    "} # A list of \"keyword\": [domain1, domain2, ...] pairs to check\n",
    "ZENSERP_API_KEY = open('apikey', 'r').read().strip() # the apikey for zenserp.com"
   ]
  },
  {
   "cell_type": "code",
   "execution_count": 69,
   "metadata": {},
   "outputs": [],
   "source": [
    "try:\n",
    "    sh = gc.open(SPREADSHEET_NAME)\n",
    "except gspread.SpreadsheetNotFound:\n",
    "    sh = gc.create(SPREADSHEET_NAME)\n",
    "\n",
    "from datetime import datetime\n",
    "calendar_week = 'Week ' + str(datetime.now().isocalendar()[1])\n",
    "if calendar_week not in [sheet.title for sheet in sh.worksheets()]:\n",
    "    worksheet = sh.add_worksheet(title=calendar_week, rows=\"100\", cols=\"10\")\n",
    "else:\n",
    "    worksheet = sh.worksheet(calendar_week)\n",
    "    \n",
    "worksheet.update_acell('A1', 'Keyword')\n",
    "worksheet.update_acell('B1', 'Domain')\n",
    "worksheet.update_acell('C1', 'Rank')\n",
    "\n",
    "api_client = zenserp.Client(ZENSERP_API_KEY)\n",
    "i = 2\n",
    "for keyword in KEYWORDS.keys():\n",
    "    params = (('q', keyword), ('search_engine', 'google.com'))\n",
    "    results = api_client.search(params)\n",
    "    \n",
    "    for domain in KEYWORDS[keyword]:\n",
    "        for serp_result in results['results']['left']:\n",
    "            if serp_result['type'] == \"organic\":\n",
    "                if domain in serp_result['url']:\n",
    "                \n",
    "                    worksheet.update_cell(i, 1, keyword)\n",
    "                    worksheet.update_cell(i, 2, domain)\n",
    "                    worksheet.update_cell(i, 3, serp_result['position'])\n",
    "                    \n",
    "                    i += 1"
   ]
  },
  {
   "cell_type": "code",
   "execution_count": 70,
   "metadata": {},
   "outputs": [],
   "source": [
    "# share it with yourself, if you are using a service account\n",
    "sh.share('office@zenserp.com', perm_type='user', role='writer')"
   ]
  },
  {
   "cell_type": "code",
   "execution_count": null,
   "metadata": {},
   "outputs": [],
   "source": []
  }
 ],
 "metadata": {
  "kernelspec": {
   "display_name": "Python 2",
   "language": "python",
   "name": "python2"
  },
  "language_info": {
   "codemirror_mode": {
    "name": "ipython",
    "version": 2
   },
   "file_extension": ".py",
   "mimetype": "text/x-python",
   "name": "python",
   "nbconvert_exporter": "python",
   "pygments_lexer": "ipython2",
   "version": "2.7.16"
  }
 },
 "nbformat": 4,
 "nbformat_minor": 2
}
